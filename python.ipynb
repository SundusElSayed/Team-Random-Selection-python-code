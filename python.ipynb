{
 "cells": [
  {
   "cell_type": "code",
   "execution_count": 1,
   "metadata": {},
   "outputs": [],
   "source": [
    "import random\n",
    "\n",
    "level1_list = [1, 2, 3, 4]\n",
    "level2_list = ['a', 'b', 'c','d']\n",
    "level3_list = [99, 88, 77,66]\n",
    "level4_list = [\"1$\",\"2&\",\"3%\",\"4©\"]\n",
    "\n"
   ]
  },
  {
   "cell_type": "code",
   "execution_count": 2,
   "metadata": {},
   "outputs": [],
   "source": [
    "all_list = [level1_list , level2_list, level3_list , level4_list]\n",
    "teams = []"
   ]
  },
  {
   "cell_type": "code",
   "execution_count": 3,
   "metadata": {},
   "outputs": [],
   "source": [
    "\n",
    "for j in range(1, 5):  \n",
    "    team = []\n",
    "    for i in range(len(all_list)):\n",
    "        unique_num = random.choice(all_list[i])\n",
    "        team.append(unique_num)\n",
    "        all_list[i].remove(unique_num)\n",
    "    teams.append(team)"
   ]
  },
  {
   "cell_type": "code",
   "execution_count": 4,
   "metadata": {},
   "outputs": [
    {
     "name": "stdout",
     "output_type": "stream",
     "text": [
      "team 1 = [2, 'c', 66, '3%']\n",
      "team 2 = [3, 'b', 99, '4©']\n",
      "team 3 = [1, 'a', 77, '1$']\n",
      "team 4 = [4, 'd', 88, '2&']\n"
     ]
    }
   ],
   "source": [
    "\n",
    "for i, team in enumerate(teams, start=1):\n",
    "    print(f\"team {i} =\", team)"
   ]
  }
 ],
 "metadata": {
  "kernelspec": {
   "display_name": "Python 3",
   "language": "python",
   "name": "python3"
  },
  "language_info": {
   "codemirror_mode": {
    "name": "ipython",
    "version": 3
   },
   "file_extension": ".py",
   "mimetype": "text/x-python",
   "name": "python",
   "nbconvert_exporter": "python",
   "pygments_lexer": "ipython3",
   "version": "3.11.5"
  }
 },
 "nbformat": 4,
 "nbformat_minor": 2
}
